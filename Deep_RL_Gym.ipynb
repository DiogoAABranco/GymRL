{
 "cells": [
  {
   "cell_type": "markdown",
   "metadata": {},
   "source": [
    "Deep Reinforcement Learning with OpenAI Gym"
   ]
  },
  {
   "cell_type": "code",
   "execution_count": null,
   "metadata": {},
   "outputs": [],
   "source": [
    "#pip install gym==0.25.1 tensorflow keras-rl2"
   ]
  },
  {
   "cell_type": "code",
   "execution_count": null,
   "metadata": {},
   "outputs": [],
   "source": [
    "import random\n",
    "import gym\n",
    "import numpy as np\n",
    "import tensorflow\n",
    "from keras import __version__\n",
    "tensorflow.keras.__version__ = __version__\n",
    "\n",
    "from tensorflow.keras.models import Sequential\n",
    "from tensorflow.keras.layers import Dense,Flatten\n",
    "from tensorflow.keras.optimizers.legacy import Adam\n",
    "\n",
    "from rl.agents import DQNAgent\n",
    "from rl.policy import BoltzmannQPolicy\n",
    "from rl.memory import SequentialMemory\n",
    "\n",
    "\n",
    "env= gym.make(\"CartPole-v1\",render_mode=\"human\")\n",
    "states= env.observation_space.shape[0]\n",
    "actions=env.action_space.n\n",
    "\n",
    "print(states)\n",
    "print(actions)\n",
    "\n",
    "\n",
    "model=Sequential()\n",
    "model.add(Flatten(input_shape=(1,states)))\n",
    "model.add(Dense(24,activation=\"relu\"))\n",
    "model.add(Dense(24,activation=\"relu\"))\n",
    "model.add(Dense(actions,activation=\"linear\"))\n",
    "\n",
    "\n",
    "agent= DQNAgent(model=model,memory=SequentialMemory(50000,window_length=1),policy=BoltzmannQPolicy(),nb_actions=actions,nb_steps_warmup=10,\n",
    "                target_model_update=0.01)\n",
    "\n",
    "agent.compile(Adam(learning_rate=0.01),metrics=[\"mae\"])\n",
    "agent.fit(env,nb_steps=10000,visualize=False,verbose=1)\n",
    "\n",
    "results= agent.test(env,nb_episodes=10,visualize=True)\n",
    "print(np.mean(results.history[\"episode_reward\"]))\n"
   ]
  },
  {
   "cell_type": "code",
   "execution_count": null,
   "metadata": {},
   "outputs": [],
   "source": []
  }
 ],
 "metadata": {
  "kernelspec": {
   "display_name": "gymvenv",
   "language": "python",
   "name": "python3"
  },
  "language_info": {
   "codemirror_mode": {
    "name": "ipython",
    "version": 3
   },
   "file_extension": ".py",
   "mimetype": "text/x-python",
   "name": "python",
   "nbconvert_exporter": "python",
   "pygments_lexer": "ipython3",
   "version": "3.9.4"
  }
 },
 "nbformat": 4,
 "nbformat_minor": 4
}
